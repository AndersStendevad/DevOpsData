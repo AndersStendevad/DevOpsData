{
 "metadata": {
  "language_info": {
   "codemirror_mode": {
    "name": "ipython",
    "version": 3
   },
   "file_extension": ".py",
   "mimetype": "text/x-python",
   "name": "python",
   "nbconvert_exporter": "python",
   "pygments_lexer": "ipython3",
   "version": "3.8.5-final"
  },
  "orig_nbformat": 2,
  "kernelspec": {
   "name": "python3",
   "display_name": "Python 3",
   "language": "python"
  }
 },
 "nbformat": 4,
 "nbformat_minor": 2,
 "cells": [
  {
   "cell_type": "code",
   "execution_count": 7,
   "metadata": {},
   "outputs": [],
   "source": [
    "import sqlite3\n",
    "import pandas as pd"
   ]
  },
  {
   "cell_type": "code",
   "execution_count": 4,
   "metadata": {},
   "outputs": [],
   "source": [
    "con = sqlite3.connect('minitwit.db')\n",
    "cur = con.cursor()"
   ]
  },
  {
   "cell_type": "code",
   "execution_count": 5,
   "metadata": {},
   "outputs": [
    {
     "output_type": "execute_result",
     "data": {
      "text/plain": [
       "<sqlite3.Cursor at 0x7f8f2e1406c0>"
      ]
     },
     "metadata": {},
     "execution_count": 5
    }
   ],
   "source": [
    "cur"
   ]
  },
  {
   "cell_type": "code",
   "execution_count": 8,
   "metadata": {},
   "outputs": [],
   "source": [
    "df = pd.read_sql_query(\"SELECT * from user;\", con)"
   ]
  },
  {
   "cell_type": "code",
   "execution_count": 9,
   "metadata": {},
   "outputs": [
    {
     "output_type": "execute_result",
     "data": {
      "text/plain": [
       "   user_id         username                      email  \\\n",
       "0        1    Roger Histand  Roger+Histand@hotmail.com   \n",
       "1        2  Geoffrey Stieff  Geoffrey.Stieff@gmail.com   \n",
       "2        3   Wendell Ballan   Wendell-Ballan@gmail.com   \n",
       "3        4    Nathan Sirmon       Nathan+Sirmon@dtu.dk   \n",
       "4        5    Quintin Sitts       Quintin+Sitts@itu.dk   \n",
       "\n",
       "                                             pw_hash  \n",
       "0  pbkdf2:sha256:50000$27tb2qgX$64cd47b7cbd27b0f2...  \n",
       "1  pbkdf2:sha256:50000$ZKEH4LvN$c16172a5a217c2410...  \n",
       "2  pbkdf2:sha256:50000$QvV3EqQX$6dad4d42045b6542b...  \n",
       "3  pbkdf2:sha256:50000$MovIOLn0$e0af4cf3c3d9d08c4...  \n",
       "4  pbkdf2:sha256:50000$yYgaCgtd$b49565a57e59b7a03...  "
      ],
      "text/html": "<div>\n<style scoped>\n    .dataframe tbody tr th:only-of-type {\n        vertical-align: middle;\n    }\n\n    .dataframe tbody tr th {\n        vertical-align: top;\n    }\n\n    .dataframe thead th {\n        text-align: right;\n    }\n</style>\n<table border=\"1\" class=\"dataframe\">\n  <thead>\n    <tr style=\"text-align: right;\">\n      <th></th>\n      <th>user_id</th>\n      <th>username</th>\n      <th>email</th>\n      <th>pw_hash</th>\n    </tr>\n  </thead>\n  <tbody>\n    <tr>\n      <th>0</th>\n      <td>1</td>\n      <td>Roger Histand</td>\n      <td>Roger+Histand@hotmail.com</td>\n      <td>pbkdf2:sha256:50000$27tb2qgX$64cd47b7cbd27b0f2...</td>\n    </tr>\n    <tr>\n      <th>1</th>\n      <td>2</td>\n      <td>Geoffrey Stieff</td>\n      <td>Geoffrey.Stieff@gmail.com</td>\n      <td>pbkdf2:sha256:50000$ZKEH4LvN$c16172a5a217c2410...</td>\n    </tr>\n    <tr>\n      <th>2</th>\n      <td>3</td>\n      <td>Wendell Ballan</td>\n      <td>Wendell-Ballan@gmail.com</td>\n      <td>pbkdf2:sha256:50000$QvV3EqQX$6dad4d42045b6542b...</td>\n    </tr>\n    <tr>\n      <th>3</th>\n      <td>4</td>\n      <td>Nathan Sirmon</td>\n      <td>Nathan+Sirmon@dtu.dk</td>\n      <td>pbkdf2:sha256:50000$MovIOLn0$e0af4cf3c3d9d08c4...</td>\n    </tr>\n    <tr>\n      <th>4</th>\n      <td>5</td>\n      <td>Quintin Sitts</td>\n      <td>Quintin+Sitts@itu.dk</td>\n      <td>pbkdf2:sha256:50000$yYgaCgtd$b49565a57e59b7a03...</td>\n    </tr>\n  </tbody>\n</table>\n</div>"
     },
     "metadata": {},
     "execution_count": 9
    }
   ],
   "source": [
    "df.head()"
   ]
  },
  {
   "cell_type": "code",
   "execution_count": null,
   "metadata": {},
   "outputs": [],
   "source": []
  }
 ]
}